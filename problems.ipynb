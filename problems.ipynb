{
 "cells": [
  {
   "cell_type": "code",
   "execution_count": 3,
   "metadata": {},
   "outputs": [
    {
     "name": "stdout",
     "output_type": "stream",
     "text": [
      "2 345\n"
     ]
    }
   ],
   "source": [
    "list = [2,6,8,5,8,64,345,3]\n",
    "\n",
    "min , max = float(\"inf\") ,float(\"-inf\") # use list[0] for intital for this ps , this is more of general coding soln using inf\n",
    "\n",
    "for i in range(len(list)):\n",
    "    if list[i]>max :\n",
    "        max=list[i]\n",
    "    if list[i]<min:\n",
    "        min = list[i]\n",
    "\n",
    "print (min,max)\n"
   ]
  },
  {
   "cell_type": "code",
   "execution_count": 5,
   "metadata": {},
   "outputs": [
    {
     "name": "stdout",
     "output_type": "stream",
     "text": [
      "2   3\n",
      "4   6\n",
      "6   9\n",
      "8   12\n",
      "10   15\n",
      "12   18\n",
      "14   21\n",
      "16   24\n",
      "18   27\n",
      "20   30\n",
      "range(1, 21)\n"
     ]
    }
   ],
   "source": [
    "# print table \n",
    "\n",
    "n=10\n",
    "\n",
    "for i in range(1,n+1):\n",
    "    print (i*2,' ',i*3)\n",
    "\n",
    "print()"
   ]
  },
  {
   "cell_type": "code",
   "execution_count": 11,
   "metadata": {},
   "outputs": [
    {
     "name": "stdout",
     "output_type": "stream",
     "text": [
      "{0: 0, 1: 1, 2: 3, 3: 1, 4: 1, 5: 0, 6: 0, 7: 0, 8: 0, 9: 0}\n",
      "[2]\n"
     ]
    }
   ],
   "source": [
    "list = [1, 2, 2, 3, 4, 2]\n",
    "freq = {}\n",
    "max_freq = 0\n",
    "max_keys=[]\n",
    "\n",
    "\n",
    "for i in range(10):\n",
    "    freq[i] = 0\n",
    "\n",
    "\n",
    "for i in list:\n",
    "    freq[i] += 1\n",
    "\n",
    "for i in freq.values():\n",
    "    if i > max_freq:\n",
    "        max_freq = i\n",
    "\n",
    "\n",
    "for key, value in freq.items():\n",
    "    if value == max_freq:\n",
    "        max_keys.append(key)\n",
    "\n",
    "print( freq)\n",
    "print(\"Maximum frequency:\", max_freq)\n",
    "print(max_keys)\n"
   ]
  },
  {
   "cell_type": "code",
   "execution_count": null,
   "metadata": {},
   "outputs": [],
   "source": [
    "list [1,2,3,4,5,6,7,8,9,123,123,2342,534536,5]\n",
    "\n",
    "for i in list:\n",
    "    if i"
   ]
  }
 ],
 "metadata": {
  "kernelspec": {
   "display_name": "base",
   "language": "python",
   "name": "python3"
  },
  "language_info": {
   "codemirror_mode": {
    "name": "ipython",
    "version": 3
   },
   "file_extension": ".py",
   "mimetype": "text/x-python",
   "name": "python",
   "nbconvert_exporter": "python",
   "pygments_lexer": "ipython3",
   "version": "3.11.9"
  }
 },
 "nbformat": 4,
 "nbformat_minor": 2
}
