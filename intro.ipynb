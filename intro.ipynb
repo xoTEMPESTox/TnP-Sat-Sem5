{
 "cells": [
  {
   "cell_type": "markdown",
   "metadata": {},
   "source": [
    "# Day 1"
   ]
  },
  {
   "cell_type": "markdown",
   "metadata": {},
   "source": [
    "## Session 1"
   ]
  },
  {
   "cell_type": "markdown",
   "metadata": {},
   "source": [
    "Instantce & Static variable"
   ]
  },
  {
   "cell_type": "code",
   "execution_count": 50,
   "metadata": {},
   "outputs": [
    {
     "name": "stdout",
     "output_type": "stream",
     "text": [
      "passed values are Priya,(43, 2026)\n",
      "Class Value:  None\n",
      "<class 'tuple'> Storage used : 10 Bit\n",
      "{'name': 'Priya', 'nums': (43, 2026), 'class_name': 'NewClass', 'inst3': None, 'inst2': None}\n",
      "{'name': 'Priya', 'nums': (43, 2026), 'class_name': 'NewClass', 'inst3': None} Changed Static var\n",
      "passed values are None,()\n",
      "Class Value:  Changed Static var\n",
      "<class 'tuple'> Storage used : 8 Bit\n",
      "{'name': 'Anshu', 'nums': (), 'class_name': 'NewClass', 'inst2': None} Changed Static var\n",
      "Changed Static var None 43\n"
     ]
    }
   ],
   "source": [
    "class NewClass:\n",
    "    class1=None # assigned to each instance of object auto , with obj.class1 to access it \n",
    "    def __init__(self,name,*nums,class_name='NewClass'): # called only once in object's life for allocating memory\n",
    "        \n",
    "        self.name =name # instance Variable , new memory allocated for each instance var\n",
    "        self.nums=nums\n",
    "        self.class_name=class_name\n",
    "\n",
    "    def display(self): \n",
    "        self.inst2=None # until called mem not provided\n",
    "        print(f\"passed values are {self.name},{self.nums}\")\n",
    "        print(f\"Class Value: \",self.class1)\n",
    "        print(type(self.nums), f\"Storage used : {len(self.__dict__)*2} Bit\")\n",
    "    \n",
    "    @staticmethod  # only used when all used var are static var\n",
    "    def static_display(roll_no,class2=class1): # captures value at class defination for default value\n",
    "        print(NewClass.class1,class2,roll_no)\n",
    "\n",
    "\n",
    "obj1=NewClass(\"Priya\",43,2026)\n",
    "obj1.inst3=None\n",
    "obj1.display()\n",
    "print(obj1.__dict__)\n",
    "del obj1.inst2\n",
    "NewClass.class1=\"Changed Static var\"\n",
    "print(obj1.__dict__,obj1.class1)\n",
    "obj2=NewClass(\"None\")\n",
    "obj2.display()\n",
    "obj2.name=\"Anshu\"\n",
    "print(obj2.__dict__ , obj2.class1)\n",
    "\n",
    "NewClass.static_display(43)\n",
    "\n",
    "\n",
    "\n",
    "\n"
   ]
  },
  {
   "cell_type": "markdown",
   "metadata": {},
   "source": [
    "Task 1"
   ]
  },
  {
   "cell_type": "code",
   "execution_count": 39,
   "metadata": {},
   "outputs": [
    {
     "name": "stdout",
     "output_type": "stream",
     "text": [
      "1 5\n",
      "2 4\n",
      "4 2\n",
      "5 1\n"
     ]
    }
   ],
   "source": [
    "for i in range (1,6):\n",
    "    if i==3:\n",
    "        continue\n",
    "    print(i,6-i)"
   ]
  },
  {
   "cell_type": "markdown",
   "metadata": {},
   "source": [
    "Task 2"
   ]
  },
  {
   "cell_type": "code",
   "execution_count": 3,
   "metadata": {},
   "outputs": [
    {
     "name": "stdout",
     "output_type": "stream",
     "text": [
      "3\n"
     ]
    }
   ],
   "source": [
    "num='578378923'\n",
    "ans = {i: 0 for i in range(10)}\n",
    "\n",
    "\n",
    "for i in num:\n",
    "    ans[int(i)] += 1\n",
    "\n",
    "count=0\n",
    "for j in ans.values():\n",
    "    if j >1:\n",
    "        count+=1\n",
    "\n",
    "if count==0:\n",
    "    count=-1\n",
    "\n",
    "print (count)"
   ]
  },
  {
   "cell_type": "markdown",
   "metadata": {},
   "source": [
    "## Session 2"
   ]
  },
  {
   "cell_type": "markdown",
   "metadata": {},
   "source": [
    "garbage collector calls deconstructor , inheritance for reusability"
   ]
  },
  {
   "cell_type": "code",
   "execution_count": 29,
   "metadata": {},
   "outputs": [
    {
     "name": "stdout",
     "output_type": "stream",
     "text": [
      "1 2 3\n",
      "This is A\n",
      "This is B 1\n",
      "This is C 3 2 1\n",
      "1 4\n"
     ]
    }
   ],
   "source": [
    "class A:\n",
    "    a = 1\n",
    "    def Display1(self):\n",
    "        print(\"This is A\")\n",
    "\n",
    "class B(A):\n",
    "    b = 2\n",
    "    def Display2(self):\n",
    "        self.Display1()\n",
    "        print(\"This is B\", self.a)\n",
    "\n",
    "class C(B):\n",
    "    c = 3\n",
    "    def Display3(self):\n",
    "        self.Display2()\n",
    "        print(\"This is C\", self.c, self.b, self.a)\n",
    "\n",
    "class D():\n",
    "    d = 4\n",
    "\n",
    "class E(A,D):\n",
    "    e=5\n",
    "\n",
    "\n",
    "obj = C()\n",
    "print(obj.a, obj.b, obj.c)\n",
    "obj.Display3()\n",
    "\n",
    "obj2=E()\n",
    "print(obj2.a,obj2.d)"
   ]
  },
  {
   "cell_type": "markdown",
   "metadata": {},
   "source": [
    "Task 1\n",
    "\n",
    "login when username==password\n",
    "\n",
    "one class for personal details (coll,class,roll,branch, semester)\n",
    "\n",
    "class for marks (passing 40 , 5 subjects ,total , percentage  )\n",
    "\n",
    "class for result "
   ]
  },
  {
   "cell_type": "code",
   "execution_count": 32,
   "metadata": {},
   "outputs": [
    {
     "ename": "SyntaxError",
     "evalue": "invalid syntax (3675627257.py, line 21)",
     "output_type": "error",
     "traceback": [
      "\u001b[1;36m  Cell \u001b[1;32mIn[32], line 21\u001b[1;36m\u001b[0m\n\u001b[1;33m    def Result(self,marks*):\u001b[0m\n\u001b[1;37m                         ^\u001b[0m\n\u001b[1;31mSyntaxError\u001b[0m\u001b[1;31m:\u001b[0m invalid syntax\n"
     ]
    }
   ],
   "source": [
    "class Login:\n",
    "    Pas=None\n",
    "    User=None\n",
    "    def Login(cls):\n",
    "        Pas = input()\n",
    "        User= input()\n",
    "        if User == Pas :\n",
    "            return True\n",
    "        return False\n",
    "    \n",
    "class Details:\n",
    "    Roll=None\n",
    "    def Details(cls):\n",
    "        cls.Roll=int(input())\n",
    "\n",
    "class Marks :\n",
    "    def Marks(self):\n",
    "        Math=int(input())\n",
    "        English=int(input(\"\"))\n",
    "\n",
    "        return Math,English\n",
    "\n",
    "class Result(Login,Details,Marks):\n",
    "    \n",
    "    def Result(self,marks):\n",
    "        if (marks.add()/100)*len(marks) >= 40:\n",
    "            print(\"pass\")\n",
    "\n",
    "priya=Result()\n",
    "\n",
    "priya.Result(priya.Marks())\n"
   ]
  },
  {
   "cell_type": "code",
   "execution_count": null,
   "metadata": {},
   "outputs": [],
   "source": [
    "class Login:\n",
    "    def __init__(self):\n",
    "        self.password = input(\"Enter Password: \")\n",
    "        self.username = input(\"Enter Username: \")\n",
    "\n",
    "    def authenticate(self):\n",
    "        return self.username == self.password\n",
    "\n",
    "\n",
    "# Derived class inheriting from Login\n",
    "class Details(Login):\n",
    "    def __init__(self):\n",
    "        super().__init__()  # Calls Login's constructor\n",
    "        self.roll = int(input(\"Enter Roll Number: \"))\n",
    "\n",
    "\n",
    "# Derived class inheriting from Details (Multi-level inheritance)\n",
    "class Marks(Details):\n",
    "    def __init__(self):\n",
    "        super().__init__()  # Calls Details' constructor\n",
    "        self.math = int(input(\"Enter Math Marks: \"))\n",
    "        self.english = int(input(\"Enter English Marks: \"))\n",
    "\n",
    "    def get_marks(self):\n",
    "        return self.math, self.english\n",
    "\n",
    "\n",
    "# Derived class inheriting from Marks and Login (Multi inheritance)\n",
    "class Result(Marks, Login):\n",
    "    def __init__(self):\n",
    "        Marks.__init__(self)  # Calls Marks' constructor\n",
    "\n",
    "    def display_result(self):\n",
    "        marks = self.get_marks()\n",
    "        average = sum(marks) / 2\n",
    "        if average >= 40:\n",
    "            print(\"Pass\")\n",
    "        else:\n",
    "            print(\"Fail\")\n",
    "\n",
    "\n",
    "# Usage\n",
    "result = Result()\n",
    "if result.authenticate():\n",
    "    result.display_result()\n",
    "else:\n",
    "    print(\"Invalid credentials\")"
   ]
  },
  {
   "cell_type": "code",
   "execution_count": 34,
   "metadata": {},
   "outputs": [
    {
     "name": "stdout",
     "output_type": "stream",
     "text": [
      "I am A\n",
      "I am B\n",
      "I am C\n"
     ]
    }
   ],
   "source": [
    "class A():\n",
    "    def role(self):\n",
    "        print(\"I am A\")\n",
    "class B():\n",
    "    def role(self):\n",
    "        print(\"I am B\")\n",
    "class C():\n",
    "    def role(self):\n",
    "        print(\"I am C\")\n",
    "\n",
    "def loop(classes):\n",
    "    for i in classes:\n",
    "        i.role()\n",
    "\n",
    "loop(classes = [A(),B(),C()])"
   ]
  },
  {
   "cell_type": "markdown",
   "metadata": {},
   "source": [
    "Task 2"
   ]
  },
  {
   "cell_type": "code",
   "execution_count": 41,
   "metadata": {},
   "outputs": [
    {
     "name": "stdout",
     "output_type": "stream",
     "text": [
      "[4, -1, 5, -2, 6, -3, 8, -7]\n"
     ]
    }
   ],
   "source": [
    "input=[-1,-2,-3,4,5,6,-7]\n",
    "neg,pos,sorted=[],[],[]\n",
    "\n",
    "for i in input:\n",
    "    if i<0:\n",
    "        neg.append(i)\n",
    "    else:\n",
    "        pos.append(i)\n",
    "\n",
    "\n",
    "for j in range(len(input)//2):\n",
    "    sorted.append(pos[j])\n",
    "    sorted.append(neg[j])\n",
    "\n",
    "\n",
    "print(sorted)"
   ]
  },
  {
   "cell_type": "markdown",
   "metadata": {},
   "source": [
    "Task 3"
   ]
  },
  {
   "cell_type": "code",
   "execution_count": null,
   "metadata": {},
   "outputs": [],
   "source": []
  },
  {
   "cell_type": "markdown",
   "metadata": {},
   "source": [
    "python doesn't support method,constructor overloading only operrator "
   ]
  },
  {
   "cell_type": "code",
   "execution_count": null,
   "metadata": {},
   "outputs": [],
   "source": [
    "# method & constructor overiding , as python priortates the last defined function which causes to have missing args\n",
    "\n",
    "class A():\n",
    "    def add(self,a):\n",
    "        print(a)\n",
    "\n",
    "    def add(self,a,b):\n",
    "        print(a+b)\n",
    "\n",
    "obj=A()\n",
    "obj.add(10)\n",
    "\n",
    "'''\n",
    "---------------------------------------------------------------------------\n",
    "TypeError                                 Traceback (most recent call last)\n",
    "Cell In[43], line 11\n",
    "      8         print(a+b)\n",
    "     10 obj=A()\n",
    "---> 11 obj.add(10)\n",
    "\n",
    "TypeError: A.add() missing 1 required positional argument: 'b'\n",
    "'''"
   ]
  },
  {
   "cell_type": "markdown",
   "metadata": {},
   "source": [
    "operator overloading called where , + is used for both string and number , or string + num both \n",
    "\n",
    "\n",
    "over riding methods , same method name but diff class , or when inhenrited , child method is prioritized \n",
    "\n",
    "runtime polymorphism - method , operator , both done by python "
   ]
  }
 ],
 "metadata": {
  "kernelspec": {
   "display_name": "base",
   "language": "python",
   "name": "python3"
  },
  "language_info": {
   "codemirror_mode": {
    "name": "ipython",
    "version": 3
   },
   "file_extension": ".py",
   "mimetype": "text/x-python",
   "name": "python",
   "nbconvert_exporter": "python",
   "pygments_lexer": "ipython3",
   "version": "3.11.9"
  }
 },
 "nbformat": 4,
 "nbformat_minor": 2
}
