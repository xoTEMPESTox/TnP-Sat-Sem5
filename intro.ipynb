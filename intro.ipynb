{
 "cells": [
  {
   "cell_type": "markdown",
   "metadata": {},
   "source": [
    "# Day 1"
   ]
  },
  {
   "cell_type": "markdown",
   "metadata": {},
   "source": [
    "## Session 1"
   ]
  },
  {
   "cell_type": "markdown",
   "metadata": {},
   "source": [
    "Instantce & Static variable"
   ]
  },
  {
   "cell_type": "code",
   "execution_count": 50,
   "metadata": {},
   "outputs": [
    {
     "name": "stdout",
     "output_type": "stream",
     "text": [
      "passed values are Priya,(43, 2026)\n",
      "Class Value:  None\n",
      "<class 'tuple'> Storage used : 10 Bit\n",
      "{'name': 'Priya', 'nums': (43, 2026), 'class_name': 'NewClass', 'inst3': None, 'inst2': None}\n",
      "{'name': 'Priya', 'nums': (43, 2026), 'class_name': 'NewClass', 'inst3': None} Changed Static var\n",
      "passed values are None,()\n",
      "Class Value:  Changed Static var\n",
      "<class 'tuple'> Storage used : 8 Bit\n",
      "{'name': 'Anshu', 'nums': (), 'class_name': 'NewClass', 'inst2': None} Changed Static var\n",
      "Changed Static var None 43\n"
     ]
    }
   ],
   "source": [
    "class NewClass:\n",
    "    class1=None # assigned to each instance of object auto , with obj.class1 to access it \n",
    "    def __init__(self,name,*nums,class_name='NewClass'): # called only once in object's life for allocating memory\n",
    "        \n",
    "        self.name =name # instance Variable , new memory allocated for each instance var\n",
    "        self.nums=nums\n",
    "        self.class_name=class_name\n",
    "\n",
    "    def display(self): \n",
    "        self.inst2=None # until called mem not provided\n",
    "        print(f\"passed values are {self.name},{self.nums}\")\n",
    "        print(f\"Class Value: \",self.class1)\n",
    "        print(type(self.nums), f\"Storage used : {len(self.__dict__)*2} Bit\")\n",
    "    \n",
    "    @staticmethod  # only used when all used var are static var\n",
    "    def static_display(roll_no,class2=class1): # captures value at class defination for default value\n",
    "        print(NewClass.class1,class2,roll_no)\n",
    "\n",
    "\n",
    "obj1=NewClass(\"Priya\",43,2026)\n",
    "obj1.inst3=None\n",
    "obj1.display()\n",
    "print(obj1.__dict__)\n",
    "del obj1.inst2\n",
    "NewClass.class1=\"Changed Static var\"\n",
    "print(obj1.__dict__,obj1.class1)\n",
    "obj2=NewClass(\"None\")\n",
    "obj2.display()\n",
    "obj2.name=\"Anshu\"\n",
    "print(obj2.__dict__ , obj2.class1)\n",
    "\n",
    "NewClass.static_display(43)\n",
    "\n",
    "\n",
    "\n",
    "\n"
   ]
  },
  {
   "cell_type": "markdown",
   "metadata": {},
   "source": [
    "Task 1"
   ]
  },
  {
   "cell_type": "code",
   "execution_count": 39,
   "metadata": {},
   "outputs": [
    {
     "name": "stdout",
     "output_type": "stream",
     "text": [
      "1 5\n",
      "2 4\n",
      "4 2\n",
      "5 1\n"
     ]
    }
   ],
   "source": [
    "for i in range (1,6):\n",
    "    if i==3:\n",
    "        continue\n",
    "    print(i,6-i)"
   ]
  },
  {
   "cell_type": "markdown",
   "metadata": {},
   "source": [
    "Task 2"
   ]
  },
  {
   "cell_type": "code",
   "execution_count": 3,
   "metadata": {},
   "outputs": [
    {
     "name": "stdout",
     "output_type": "stream",
     "text": [
      "3\n"
     ]
    }
   ],
   "source": [
    "num='578378923'\n",
    "ans = {i: 0 for i in range(10)}\n",
    "\n",
    "\n",
    "for i in num:\n",
    "    ans[int(i)] += 1\n",
    "\n",
    "count=0\n",
    "for j in ans.values():\n",
    "    if j >1:\n",
    "        count+=1\n",
    "\n",
    "if count==0:\n",
    "    count=-1\n",
    "\n",
    "print (count)"
   ]
  },
  {
   "cell_type": "markdown",
   "metadata": {},
   "source": [
    "## Session 2"
   ]
  },
  {
   "cell_type": "markdown",
   "metadata": {},
   "source": [
    "garbage collector calls deconstructor , inheritance for reusability"
   ]
  },
  {
   "cell_type": "code",
   "execution_count": 22,
   "metadata": {},
   "outputs": [
    {
     "name": "stdout",
     "output_type": "stream",
     "text": [
      "This is A\n",
      "This is B 1\n",
      "This is C 3 2 1\n"
     ]
    }
   ],
   "source": [
    "class A:\n",
    "    a=1\n",
    "    def Display1(self):\n",
    "        print(\"This is A\")\n",
    "class B(A):\n",
    "    b=2\n",
    "    def Display2(self):\n",
    "        self.Display1()\n",
    "        print(\"This is B\",B.a)\n",
    "\n",
    "class C(B):\n",
    "    c=3\n",
    "    def Display3(self):\n",
    "        self.Display2()\n",
    "        print(\"This is C\",C.c,C.b,C.a)\n",
    "\n",
    "obj=C()\n",
    "obj.Display3()\n",
    "\n"
   ]
  },
  {
   "cell_type": "code",
   "execution_count": null,
   "metadata": {},
   "outputs": [],
   "source": []
  }
 ],
 "metadata": {
  "kernelspec": {
   "display_name": "base",
   "language": "python",
   "name": "python3"
  },
  "language_info": {
   "codemirror_mode": {
    "name": "ipython",
    "version": 3
   },
   "file_extension": ".py",
   "mimetype": "text/x-python",
   "name": "python",
   "nbconvert_exporter": "python",
   "pygments_lexer": "ipython3",
   "version": "3.11.9"
  }
 },
 "nbformat": 4,
 "nbformat_minor": 2
}
