{
 "cells": [
  {
   "cell_type": "code",
   "execution_count": 32,
   "metadata": {},
   "outputs": [
    {
     "name": "stdout",
     "output_type": "stream",
     "text": [
      "passed values are Priyanshu,(43, 2026)\n",
      "Class Value:  None\n",
      "<class 'tuple'> Storage used : 10 Bit\n",
      "{'name': 'Priyanshu', 'nums': (43, 2026), 'class_name': 'NewClass', 'inst3': None, 'inst2': None}\n",
      "{'name': 'Priyanshu', 'nums': (43, 2026), 'class_name': 'NewClass', 'inst3': None} Changed Static var\n"
     ]
    }
   ],
   "source": [
    "class NewClass:\n",
    "    class1=None # assigned to each instance of object auto , with obj.class1 to access it \n",
    "    def __init__(self,name,*nums,class_name='NewClass'): # called only once in object's life for allocating memory\n",
    "        \n",
    "        self.name =name # instance Variable , new memory allocated for each instance var\n",
    "        self.nums=nums\n",
    "        self.class_name=class_name\n",
    "\n",
    "    def display(self): \n",
    "        self.inst2=None # until called mem not provided\n",
    "        print(f\"passed values are {self.name},{self.nums}\")\n",
    "        print(f\"Class Value: \",self.class1)\n",
    "        print(type(self.nums), f\"Storage used : {len(self.__dict__)*2} Bit\")\n",
    "\n",
    "obj=NewClass(\"Priyanshu\",43,2026)\n",
    "obj.inst3=None\n",
    "obj.display()\n",
    "print(obj.__dict__)\n",
    "del obj.inst2\n",
    "NewClass.class1=\"Changed Static var\"\n",
    "print(obj.__dict__,obj.class1)\n",
    "\n",
    "\n"
   ]
  },
  {
   "cell_type": "code",
   "execution_count": null,
   "metadata": {},
   "outputs": [],
   "source": []
  }
 ],
 "metadata": {
  "kernelspec": {
   "display_name": "base",
   "language": "python",
   "name": "python3"
  },
  "language_info": {
   "codemirror_mode": {
    "name": "ipython",
    "version": 3
   },
   "file_extension": ".py",
   "mimetype": "text/x-python",
   "name": "python",
   "nbconvert_exporter": "python",
   "pygments_lexer": "ipython3",
   "version": "3.11.9"
  }
 },
 "nbformat": 4,
 "nbformat_minor": 2
}
